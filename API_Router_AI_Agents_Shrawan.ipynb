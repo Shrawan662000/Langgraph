{
 "cells": [
  {
   "cell_type": "markdown",
   "metadata": {},
   "source": [
    "### Note: I implemented this solution suing python 3.11.9 version"
   ]
  },
  {
   "cell_type": "markdown",
   "metadata": {},
   "source": [
    "#### Importing required modules"
   ]
  },
  {
   "cell_type": "code",
   "execution_count": 7,
   "metadata": {},
   "outputs": [],
   "source": [
    "# Import the required modules\n",
    "import os\n",
    "import json\n",
    "from dotenv import load_dotenv\n",
    "from langgraph.prebuilt import ToolNode\n",
    "from langgraph.graph import StateGraph, MessagesState, START, END\n",
    "import requests\n",
    "from typing import List, Literal\n",
    "from langchain_community.tools.tavily_search import TavilySearchResults\n",
    "from langchain_core.tools import tool\n",
    "from langchain_openai import AzureChatOpenAI\n",
    "from openai import AzureOpenAI\n",
    "from langchain.memory import ConversationBufferMemory\n",
    "from langchain.schema import HumanMessage, AIMessage\n",
    "import yfinance as yf\n"
   ]
  },
  {
   "cell_type": "markdown",
   "metadata": {},
   "source": [
    "#### Loading credentials from .env file\n",
    "\n",
    "#####  we required Azure openai - gpt-4o-mini model credentials\n",
    "##### Weather api key : https://www.weatherapi.com/\n",
    "##### Taviliy API key : https://tavily.com/\n",
    "\n",
    "\n",
    "##### Note : create an .env file and provide your credentials"
   ]
  },
  {
   "cell_type": "code",
   "execution_count": 8,
   "metadata": {},
   "outputs": [],
   "source": [
    "\n",
    "# Load environment variables\n",
    "load_dotenv()\n",
    "\n",
    "# Retrieve credentials\n",
    "WEATHER_API_KEY = os.environ['WEATHER_API_KEY']\n",
    "TAVILY_API_KEY = os.environ['TAVILY_API_KEY']\n",
    "\n",
    "openai_api_version = os.getenv(\"OPENAI_API_VERSION\")\n",
    "azure_openai_endpoint = os.getenv(\"ENDPOINT_URL_MINI\")\n",
    "azure_openai_api_key = os.getenv(\"AZURE_OPENAI_API_KEY_MINI\")\n",
    "deployment_name = os.getenv('DEPLOYMENT_NAME_MINI')\n",
    "\n",
    "if not os.environ.get(\"AZURE_OPENAI_API_KEY\"):\n",
    "    os.environ[\"AZURE_OPENAI_API_KEY\"] = azure_openai_api_key\n",
    "\n"
   ]
  },
  {
   "cell_type": "markdown",
   "metadata": {},
   "source": [
    "#### LLM (gpt-4o-mini) intialization"
   ]
  },
  {
   "cell_type": "code",
   "execution_count": 9,
   "metadata": {},
   "outputs": [],
   "source": [
    "\n",
    "\n",
    "## LLM (gpt-4o-mini) intialization\n",
    "\n",
    "llm = AzureChatOpenAI(\n",
    "    azure_endpoint=azure_openai_endpoint,\n",
    "    azure_deployment=deployment_name,\n",
    "    openai_api_version=openai_api_version,\n",
    ")\n",
    "\n",
    "\n",
    "client = AzureOpenAI(\n",
    "    azure_endpoint=azure_openai_endpoint,\n",
    "    api_key=azure_openai_api_key,\n",
    "    api_version=openai_api_version,\n",
    ")\n",
    "\n"
   ]
  },
  {
   "cell_type": "markdown",
   "metadata": {},
   "source": [
    "#### Initialize persistent memory, and memory for saving chat, and loading past history"
   ]
  },
  {
   "cell_type": "code",
   "execution_count": 10,
   "metadata": {},
   "outputs": [
    {
     "name": "stdout",
     "output_type": "stream",
     "text": [
      "\n",
      "Loaded previous conversation history.\n"
     ]
    }
   ],
   "source": [
    "# Initialize persistent memory\n",
    "memory_file = \"conversation_memory.json\"\n",
    "memory = ConversationBufferMemory()\n",
    "\n",
    "\n",
    "\n",
    "\n",
    "# Load previous conversation history\n",
    "if os.path.exists(memory_file):\n",
    "    try:\n",
    "        with open(memory_file, \"r\") as f:\n",
    "            saved_messages = json.load(f)\n",
    "            for msg_data in saved_messages:\n",
    "                if msg_data[\"type\"] == \"human\":\n",
    "                    memory.chat_memory.add_user_message(msg_data[\"content\"])\n",
    "                elif msg_data[\"type\"] == \"ai\":\n",
    "                    memory.chat_memory.add_ai_message(msg_data[\"content\"])\n",
    "        print(\"\\nLoaded previous conversation history.\")\n",
    "    except Exception as e:\n",
    "        print(f\"\\nError loading memory: {e}\")\n",
    "\n"
   ]
  },
  {
   "cell_type": "markdown",
   "metadata": {},
   "source": [
    "#### function for getting symbol ticker for yfinanace library "
   ]
  },
  {
   "cell_type": "code",
   "execution_count": 11,
   "metadata": {},
   "outputs": [],
   "source": [
    "\n",
    "\n",
    "\n",
    "## function for getting symbol ticker for yfinanace library\n",
    "def finance(client, query):\n",
    "    prompt = f\"\"\"You are a financial advisor. Your task is to analyze the given query, identify the company or stock mentioned, and convert it into its corresponding ticker symbol (used in the yfinance Python library).  \n",
    "\n",
    "## Given Query: {query}  \n",
    "\n",
    "### Examples:  \n",
    "#### Input:  \n",
    "\"I want to check the latest stock price of Apple.\"  \n",
    "#### Output:  \n",
    "{{\"symbol\": \"AAPL\"}}  \n",
    "\n",
    "#### Input:  \n",
    "\"Tell me about Tesla's stock performance.\"  \n",
    "#### Output:  \n",
    "{{\"symbol\": \"TSLA\"}}  \n",
    "\n",
    "#### Input:  \n",
    "\"How is Microsoft's stock doing today?\"  \n",
    "#### Output:  \n",
    "{{\"symbol\": \"MSFT\"}}  \n",
    "\n",
    "Ensure you return only the JSON output in the specified format. If the company or stock is unknown, respond with:  \n",
    "{{\"symbol\": \"your converted symbol will be here\"}}  \n",
    "\"\"\"  \n",
    "\n",
    "    messages = [\n",
    "        {\"role\": \"system\", \"content\": \"You are a helpful assistant that outputs in json\"},\n",
    "        {\"role\": \"user\", \"content\": prompt},\n",
    "    ]\n",
    "    stream = client.chat.completions.create(\n",
    "        model=deployment_name,\n",
    "        messages=messages,\n",
    "        max_tokens=200,\n",
    "        temperature=0.2,\n",
    "    )\n",
    "    res=stream.choices[0].message.content\n",
    "    res=json.loads(res)\n",
    "    return res['symbol']\n",
    "\n"
   ]
  },
  {
   "cell_type": "markdown",
   "metadata": {},
   "source": [
    "#### Function for Intent (weather/news/finance/sentiment/translation/general query) and entity detection"
   ]
  },
  {
   "cell_type": "code",
   "execution_count": 12,
   "metadata": {},
   "outputs": [],
   "source": [
    "\n",
    "## Function for Intent and entity detection\n",
    "def detect_intent(query: str) -> dict:\n",
    "    \"\"\"Detect intent using Azure OpenAI\"\"\"\n",
    "    response = client.chat.completions.create(\n",
    "        model=deployment_name,\n",
    "        messages=[{\n",
    "            \"role\": \"user\",\n",
    "            \"content\": f\"\"\"Analyze this query and output JSON:\n",
    "            Query: {query}\n",
    "            Output format: {{\n",
    "                \"intent\": \"weather/news/finance/sentiment/translation/general\",\n",
    "                \"entities\": {{\n",
    "                    \"locations\": [],\n",
    "                    \"keywords\": [],\n",
    "                    \"companies\": []\n",
    "                }}\n",
    "            }}\"\"\"\n",
    "        }],\n",
    "        temperature=0.2\n",
    "    )\n",
    "\n",
    "    res=response.choices[0].message.content\n",
    "    res=json.loads(res)\n",
    "    return res\n",
    "\n",
    "\n"
   ]
  },
  {
   "cell_type": "markdown",
   "metadata": {},
   "source": [
    "#### function for routing queries to their corrospond route or agent node or tools"
   ]
  },
  {
   "cell_type": "code",
   "execution_count": 13,
   "metadata": {},
   "outputs": [],
   "source": [
    "\n",
    "## function for routing queries to their corrospond route\n",
    "def route_query(query: str) -> str:\n",
    "    \"\"\"Enhanced routing with memory context\"\"\"\n",
    "    intent_data = detect_intent(query)\n",
    "    \n",
    "    if intent_data[\"intent\"] == \"weather\":\n",
    "        return get_weather(intent_data[\"entities\"][\"locations\"][0])\n",
    "    elif intent_data[\"intent\"] == \"news\":\n",
    "        return get_news(\" \".join(intent_data[\"entities\"][\"keywords\"]))\n",
    "    elif intent_data[\"intent\"] == \"finance\":\n",
    "        return get_financial_data(intent_data[\"entities\"][\"companies\"][0])\n",
    "    elif intent_data[\"intent\"] == \"translation\":\n",
    "        return translate_text(query)\n",
    "    elif intent_data[\"intent\"] == \"sentiment\":\n",
    "        return analyze_sentiment(query)\n",
    "    else:\n",
    "        response = client.chat.completions.create(\n",
    "            model=deployment_name,\n",
    "            messages=[{\"role\": \"user\", \"content\": query}],\n",
    "            temperature=0.7\n",
    "        )\n",
    "        return response.choices[0].message.content\n",
    "\n"
   ]
  },
  {
   "cell_type": "markdown",
   "metadata": {},
   "source": [
    "#### Defining tools \n",
    "##### tool 1: fetching weather data : using weather api\n",
    "##### tool 2: tool for fetching news from web search : tavily search api\n",
    "##### tool 3: tool for translation \n",
    "##### tool 4: tool for sentiment analysis\n",
    "##### tool 5: tool for getting financial data : yfinanace libraary\n"
   ]
  },
  {
   "cell_type": "code",
   "execution_count": 14,
   "metadata": {},
   "outputs": [],
   "source": [
    "\n",
    "\n",
    "\n",
    "# tool 1: fetching weather data\n",
    "@tool\n",
    "def get_weather(query: str) -> list:\n",
    "    \"\"\"Search weatherapi to get the current weather\"\"\"\n",
    "    endpoint = f\"http://api.weatherapi.com/v1/current.json?key={WEATHER_API_KEY}&q={query}\"\n",
    "    response = requests.get(endpoint)\n",
    "    data = response.json()\n",
    "    if data.get(\"location\"):\n",
    "        return data\n",
    "    else:\n",
    "        return \"Weather Data Not Found\"\n",
    "    \n",
    "\n",
    "# tool 2: tool for fetching news from web search\n",
    "@tool\n",
    "def get_news(query: str) -> str:\n",
    "    \"\"\"\n",
    "    Search the web for news articles related to the query and return the top results with citation links.\n",
    "    \n",
    "    Args:\n",
    "        query (str): The search query for news articles.\n",
    "    \n",
    "    Returns:\n",
    "        str: A formatted string containing the top news results with titles, snippets, and citation links.\n",
    "    \"\"\"\n",
    "    # Initialize TavilySearchResults\n",
    "    tavily_search = TavilySearchResults(api_key=TAVILY_API_KEY, max_results=4, search_depth='advanced', max_tokens=1000)\n",
    "    \n",
    "    # Fetch search results\n",
    "    results = tavily_search.invoke(query)\n",
    "    \n",
    "    # Format the results with titles, snippets, and URLs\n",
    "    formatted_results = []\n",
    "    for result in results:\n",
    "        title = result.get(\"title\", \"No Title\")\n",
    "        snippet = result.get(\"content\", \"No Snippet Available\")\n",
    "        url = result.get(\"url\", \"No URL Available\")\n",
    "        \n",
    "        # Format each result\n",
    "        formatted_result = f\"**Title:** {title}\\n**Snippet:** {snippet}\\n**Link:** {url}\\n\"\n",
    "        formatted_results.append(formatted_result)\n",
    "    \n",
    "    # Combine all results into a single string\n",
    "    return \"\\n\\n\".join(formatted_results)\n",
    "\n",
    "\n",
    "# tool 3: tool for translation\n",
    "@tool\n",
    "def translate_text(query: str) -> str:\n",
    "    \"\"\"Translates the given query text into the target language.\"\"\"\n",
    "    prompt = f'''You are an efficient translator. First, analyze the query and its language, then translate it to the target language.\n",
    "    ## Given Query: {query}\n",
    "    Note: In the output, only provide the translation of the query, nothing else.\n",
    "    ## Desired Output:\n",
    "    translated text: \"your translated text will be here\"\n",
    "    Ensure you follow the output format.\n",
    "    '''\n",
    "    messages = [\n",
    "        {\"role\": \"system\", \"content\": \"You are a helpful assistant that translates the given sentence.\"},\n",
    "        {\"role\": \"user\", \"content\": prompt},\n",
    "    ]\n",
    "    stream = client.chat.completions.create(\n",
    "        model=deployment_name,\n",
    "        messages=messages,\n",
    "        max_tokens=200,\n",
    "        temperature=0.2,\n",
    "    )\n",
    "    return stream.choices[0].message.content\n",
    "\n",
    "\n",
    "\n",
    "# tool 4: tool for sentiment analysis\n",
    "@tool\n",
    "def analyze_sentiment(query: str) -> str:\n",
    "    \"\"\"Performs sentiment analysis on the provided query.\"\"\"\n",
    "    prompt = f'''\n",
    "    You are a sentiment analyzer. First, analyze the sentiment of the given query and detect its language. Then, provide the sentiment analysis result.\n",
    "    ## Given Query: {query}\n",
    "    Note: In the output, only provide the sentiment result, nothing else.\n",
    "    '''\n",
    "    messages = [\n",
    "        {\"role\": \"system\", \"content\": \"You are a helpful assistant that performs sentiment analysis.\"},\n",
    "        {\"role\": \"user\", \"content\": prompt},\n",
    "    ]\n",
    "    stream = client.chat.completions.create(\n",
    "        model=deployment_name,\n",
    "        messages=messages,\n",
    "        max_tokens=200,\n",
    "        temperature=0.2,\n",
    "    )\n",
    "    return stream.choices[0].message.content\n",
    "\n",
    "\n",
    "\n",
    "# tool 5: tool for getting financial data\n",
    "@tool\n",
    "def get_financial_data(query: str) -> str:\n",
    "    \"\"\"Simulates fetching financial data for a given query.\"\"\"\n",
    "    # Simulate financial data retrieval\n",
    "    ticker_symbol=finance(client, query)\n",
    "    # Define the stock ticker symbol\n",
    "\n",
    "\n",
    "    # Fetch the stock data\n",
    "    stock = yf.Ticker(ticker_symbol)\n",
    "\n",
    "    # Get the current price\n",
    "    current_price = stock.history(period=\"1d\")['Close'].iloc[-1]\n",
    "\n",
    "    return f\"Current Price of {ticker_symbol}: {current_price}\"\n",
    "\n"
   ]
  },
  {
   "cell_type": "markdown",
   "metadata": {},
   "source": [
    "#### Tool binding and tool node initialization"
   ]
  },
  {
   "cell_type": "code",
   "execution_count": 15,
   "metadata": {},
   "outputs": [],
   "source": [
    "\n",
    "\n",
    "# Configure LangGraph workflow\n",
    "tools = [get_weather, get_news, translate_text, analyze_sentiment, get_financial_data]\n",
    "llm_with_tools = llm.bind_tools(tools)\n",
    "\n",
    "\n",
    "# Configure StateGraph\n",
    "tool_node = ToolNode(tools)\n"
   ]
  },
  {
   "cell_type": "markdown",
   "metadata": {},
   "source": [
    "#### Function for calling LLM and Tools \n",
    "These are the nodes for workflow"
   ]
  },
  {
   "cell_type": "code",
   "execution_count": 16,
   "metadata": {},
   "outputs": [],
   "source": [
    "\n",
    "\n",
    "## function for calling llm\n",
    "def call_model(state: MessagesState):\n",
    "    messages = state[\"messages\"]\n",
    "    response = llm_with_tools.invoke(messages)\n",
    "    return {\"messages\": [response]}\n",
    "\n",
    "\n",
    "## function for calling Tools \n",
    "def call_tools(state: MessagesState) -> Literal[\"tools\", END]:\n",
    "    messages = state[\"messages\"]\n",
    "    last_message = messages[-1]\n",
    "    check_tool = last_message.tool_calls\n",
    "    if check_tool:\n",
    "        # print(\"\\n\")\n",
    "        print(\"Triggered Tool or Agent:\", check_tool[0]['name'])\n",
    "        return \"tools\"\n",
    "    return END\n"
   ]
  },
  {
   "cell_type": "markdown",
   "metadata": {},
   "source": [
    "#### function for checking exact query from history"
   ]
  },
  {
   "cell_type": "code",
   "execution_count": 17,
   "metadata": {},
   "outputs": [],
   "source": [
    "\n",
    "## function for checking exact query from history\n",
    "def check_history(query: str) -> str | None:\n",
    "    \"\"\"Check for exact query matches in history\"\"\"\n",
    "    history = memory.load_memory_variables({})['history']\n",
    "    messages = memory.chat_memory.messages\n",
    "    \n",
    "    for i in range(0, len(messages), 2):\n",
    "        if i+1 >= len(messages):\n",
    "            break\n",
    "        if isinstance(messages[i], HumanMessage) and messages[i].content == query:\n",
    "            return messages[i+1].content  # Return next message (AI response)\n",
    "    return None\n",
    "\n"
   ]
  },
  {
   "cell_type": "markdown",
   "metadata": {},
   "source": [
    "#### Langgraph workflow design adding nodes and edges"
   ]
  },
  {
   "cell_type": "code",
   "execution_count": 18,
   "metadata": {},
   "outputs": [],
   "source": [
    "\n",
    "\n",
    "## workflow design adding nodes and edges\n",
    "\n",
    "workflow = StateGraph(MessagesState)\n",
    "workflow.add_node(\"LLM\", call_model)\n",
    "workflow.add_node(\"tools\", tool_node)\n",
    "workflow.add_edge(START, \"LLM\")\n",
    "workflow.add_conditional_edges(\"LLM\", call_tools)\n",
    "workflow.add_edge(\"tools\", \"LLM\")\n",
    "agent = workflow.compile()\n",
    "\n",
    "\n"
   ]
  },
  {
   "cell_type": "markdown",
   "metadata": {},
   "source": [
    "#### displaying langraph agentic workflow"
   ]
  },
  {
   "cell_type": "code",
   "execution_count": 19,
   "metadata": {},
   "outputs": [
    {
     "data": {
      "image/png": "[encoded data removed]",
      "text/plain": [
       "<IPython.core.display.Image object>"
      ]
     },
     "metadata": {},
     "output_type": "display_data"
    }
   ],
   "source": [
    "\n",
    "\n",
    "from IPython.display import Image, display\n",
    "\n",
    "try:\n",
    "    display(Image(agent.get_graph().draw_mermaid_png()))\n",
    "except Exception:\n",
    "    # This requires some extra dependencies and is optional\n",
    "    pass\n",
    "\n"
   ]
  },
  {
   "cell_type": "markdown",
   "metadata": {},
   "source": [
    "#### Inferencing on some query samples and saving chat history to persistent memory-\n",
    "##### See the output : it shows the query, related function called and response."
   ]
  },
  {
   "cell_type": "code",
   "execution_count": 55,
   "metadata": {},
   "outputs": [
    {
     "name": "stdout",
     "output_type": "stream",
     "text": [
      "User Query: will rain in jaipur tonight?\n",
      "Triggered Tool or Agent: get_weather\n",
      "\n",
      "Response: Tonight in Jaipur, the weather is expected to be clear and sunny with a temperature around 23.2°C (73.8°F). There is no indication of rain, as the precipitation level is currently at 0.0 mm.\n",
      "\n",
      "\n",
      "\n",
      "User Query: How is Bitcoin performing today?\n",
      "Triggered Tool or Agent: get_financial_data\n",
      "\n",
      "Response: Today, Bitcoin is currently priced at $98,606.48.\n",
      "\n",
      "\n",
      "\n",
      "User Query: what about TCS NSE\n",
      "Triggered Tool or Agent: get_financial_data\n",
      "\n",
      "Response: The current price of TCS (Tata Consultancy Services) on the NSE is ₹4,091.10.\n",
      "\n",
      "\n",
      "\n",
      "User Query: latest news on Delhi election\n",
      "Triggered Tool or Agent: get_news\n",
      "\n",
      "Response: Here are the latest news articles related to the Delhi election:\n",
      "\n",
      "1. **Delhi Elections 2025 LIVE**: Delhi is set for an intense triangular contest between the Bharatiya Janata Party, the Aam Aadmi Party, and the Congress to elect its Chief Minister for the next five years. Voting will take place across 13,766 polling stations in all 70 Assembly constituencies at 7 am. [Read more here](https://www.republicworld.com/elections/delhi-elections-2025-live-updates-voting-begins-at-7-aap-bjp-congress-arvind-kejriwal-parvesh-verma-sandeep-dikshit-atishi-manish-sisodia-saurabh-bhardwaj-ramesh-bidhuri-new-delhi-kalkaji-mundka-latest-today-february-7-am).\n",
      "\n",
      "2. **Delhi Election Exit 2025 Live**: Voting is underway for the high-stakes Assembly elections in Delhi. The Aam Aadmi Party (AAP) is seeking a third straight term, banking on its governance record and welfare schemes. [Read more here](https://www.cnbctv18.com/india/politics/delhi-election-exit-poll-2025-live-updates-arvind-kejriwal-amit-shah-rahul-gandhi-aap-bjp-congress-seats-liveblog-19553094.htm).\n",
      "\n",
      "3. **Candidate Lists Released**: The AAP has released its first list of candidates for the Delhi assembly election 2025, fielding candidates against BJP and Congress turncoats. [Read more here](https://en.wikipedia.org/wiki/2025_Delhi_Legislative_Assembly_election).\n",
      "\n",
      "4. **Voting LIVE Updates**: The high-stakes Delhi election is underway in 70 Assembly constituencies, with notable leaders participating. [Read more here](https://indianexpress.com/article/india/delhi-elections-2025-voting-live-updates-9817624/). \n",
      "\n",
      "These articles provide insights into the ongoing election activities and key candidates involved.\n",
      "\n",
      "\n",
      "\n",
      "User Query: How do you say \"Good morning\" in Spanish?\n",
      "Triggered Tool or Agent: translate_text\n",
      "\n",
      "Response: \"Good morning\" in Spanish is said as \"Buenos días.\"\n",
      "\n",
      "\n",
      "\n",
      "User Query: The football match was very amazing.\n",
      "Triggered Tool or Agent: analyze_sentiment\n",
      "\n",
      "Response: The sentiment of your statement \"The football match was very amazing.\" is positive.\n",
      "\n",
      "\n",
      "\n",
      "User Query: Stock price of Apple and sentiment around it.\n",
      "Triggered Tool or Agent: get_financial_data\n",
      "\n",
      "Response: The current stock price of Apple (AAPL) is $232.80. The sentiment around it is neutral.\n",
      "\n",
      "\n",
      "\n",
      "User Query: hello \n",
      "\n",
      "Response: Hello! How can I assist you today?\n",
      "\n",
      "\n",
      "\n",
      "User Query: exit\n",
      "You terminated the conversation\n",
      "\n",
      "Conversation history saved successfully.\n"
     ]
    }
   ],
   "source": [
    "\n",
    "\n",
    "try:\n",
    "    while True:\n",
    "        query = input(\"\\nYou: \")\n",
    "        print(\"User Query:\", query)\n",
    "        if query.lower() in ['exit', 'quit']:\n",
    "            print(\"You terminated the conversation\")\n",
    "            break\n",
    "        \n",
    "        # Check for existing response in history\n",
    "        cached_response = check_history(query)\n",
    "        if cached_response:\n",
    "            print(f\"\\nResponse (cached): {cached_response}\")\n",
    "            print(\"\\n\\n\")\n",
    "            continue\n",
    "            \n",
    "        # Rest of original processing flow\n",
    "        memory.chat_memory.add_user_message(query)\n",
    "        messages = []\n",
    "        for msg in memory.chat_memory.messages:\n",
    "            role = \"user\" if isinstance(msg, HumanMessage) else \"assistant\"\n",
    "            messages.append((role, msg.content))\n",
    "        \n",
    "        response = agent.invoke({\"messages\": messages})\n",
    "        ai_response = response[\"messages\"][-1].content\n",
    "        \n",
    "        memory.chat_memory.add_ai_message(ai_response)\n",
    "        print(f\"\\nResponse: {ai_response}\")\n",
    "        print(\"\\n\\n\")\n",
    "\n",
    "finally:\n",
    "    # Save conversation history\n",
    "    try:\n",
    "        with open(memory_file, \"w\") as f:\n",
    "            history = [{\n",
    "                \"type\": \"human\" if isinstance(msg, HumanMessage) else \"ai\",\n",
    "                \"content\": msg.content\n",
    "            } for msg in memory.chat_memory.messages]\n",
    "            json.dump(history, f, indent=2)\n",
    "        print(\"\\nConversation history saved successfully.\")\n",
    "    except Exception as e:\n",
    "        print(f\"\\nError saving memory: {e}\")"
   ]
  },
  {
   "cell_type": "code",
   "execution_count": null,
   "metadata": {},
   "outputs": [],
   "source": []
  }
 ],
 "metadata": {
  "kernelspec": {
   "display_name": "env",
   "language": "python",
   "name": "python3"
  },
  "language_info": {
   "codemirror_mode": {
    "name": "ipython",
    "version": 3
   },
   "file_extension": ".py",
   "mimetype": "text/x-python",
   "name": "python",
   "nbconvert_exporter": "python",
   "pygments_lexer": "ipython3",
   "version": "3.11.9"
  }
 },
 "nbformat": 4,
 "nbformat_minor": 2
}
